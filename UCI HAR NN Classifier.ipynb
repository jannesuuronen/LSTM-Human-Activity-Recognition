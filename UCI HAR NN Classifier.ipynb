{
 "cells": [
  {
   "cell_type": "markdown",
   "metadata": {},
   "source": [
    "This notebook is based on that written by Chevalier and can be found on [GitHub](https://github.com/guillaume-chevalier/LSTM-Human-Activity-Recognition). The differences introduce in this notebook is the use of the Keras RNN library which is more modern compared to the LSTM RNN code used in the aforementioned basis for this notebook. "
   ]
  },
  {
   "cell_type": "markdown",
   "metadata": {},
   "source": [
    "# Setup"
   ]
  },
  {
   "cell_type": "code",
   "execution_count": 1,
   "metadata": {},
   "outputs": [],
   "source": [
    "# Includes\n",
    "\n",
    "import numpy as np\n",
    "import matplotlib\n",
    "import matplotlib.pyplot as plt\n",
    "import tensorflow as tf\n",
    "from tensorflow import keras\n",
    "from tensorflow.keras import layers\n",
    "from sklearn import metrics\n",
    "\n",
    "import os"
   ]
  },
  {
   "cell_type": "code",
   "execution_count": 2,
   "metadata": {},
   "outputs": [],
   "source": [
    "# Useful Constants\n",
    "\n",
    "# Those are separate normalised input features for the neural network\n",
    "INPUT_SIGNAL_TYPES = [\n",
    "    \"body_acc_x_\",\n",
    "    \"body_acc_y_\",\n",
    "    \"body_acc_z_\",\n",
    "    \"body_gyro_x_\",\n",
    "    \"body_gyro_y_\",\n",
    "    \"body_gyro_z_\",\n",
    "    \"total_acc_x_\",\n",
    "    \"total_acc_y_\",\n",
    "    \"total_acc_z_\"\n",
    "]\n",
    "\n",
    "# Output classes to learn how to classify\n",
    "LABELS = [\n",
    "    \"WALKING\",\n",
    "    \"WALKING_UPSTAIRS\",\n",
    "    \"WALKING_DOWNSTAIRS\",\n",
    "    \"SITTING\",\n",
    "    \"STANDING\",\n",
    "    \"LAYING\"\n",
    "] "
   ]
  },
  {
   "cell_type": "markdown",
   "metadata": {},
   "source": [
    "# Extract dataset path"
   ]
  },
  {
   "cell_type": "code",
   "execution_count": 3,
   "metadata": {},
   "outputs": [
    {
     "name": "stdout",
     "output_type": "stream",
     "text": [
      "\n",
      "Dataset is now located at: data/UCI HAR Dataset/\n"
     ]
    }
   ],
   "source": [
    "DATA_PATH = \"data/\"\n",
    "DATASET_PATH = DATA_PATH + \"UCI HAR Dataset/\"\n",
    "print(\"\\n\" + \"Dataset is now located at: \" + DATASET_PATH)"
   ]
  },
  {
   "cell_type": "markdown",
   "metadata": {},
   "source": [
    "# Dataset Preparation"
   ]
  },
  {
   "cell_type": "code",
   "execution_count": 4,
   "metadata": {},
   "outputs": [],
   "source": [
    "TRAIN = \"train/\"\n",
    "TEST = \"test/\"\n",
    "\n",
    "\n",
    "# Load \"X\" (the neural network's training and testing inputs)\n",
    "\n",
    "def load_X(X_signals_paths):\n",
    "    X_signals = []\n",
    "\n",
    "    for signal_type_path in X_signals_paths:\n",
    "        file = open(signal_type_path, 'r')\n",
    "        # Read dataset from disk, dealing with text files' syntax\n",
    "        X_signals.append(\n",
    "            [np.array(serie, dtype=np.float32) for serie in [\n",
    "                row.replace('  ', ' ').strip().split(' ') for row in file\n",
    "            ]]\n",
    "        )\n",
    "        file.close()\n",
    "\n",
    "    return np.transpose(np.array(X_signals), (1, 2, 0))\n",
    "\n",
    "X_train_signals_paths = [\n",
    "    DATASET_PATH + TRAIN + \"Inertial Signals/\" + signal + \"train.txt\" for signal in INPUT_SIGNAL_TYPES\n",
    "]\n",
    "X_test_signals_paths = [\n",
    "    DATASET_PATH + TEST + \"Inertial Signals/\" + signal + \"test.txt\" for signal in INPUT_SIGNAL_TYPES\n",
    "]\n",
    "\n",
    "X_train = load_X(X_train_signals_paths)\n",
    "X_test = load_X(X_test_signals_paths)\n",
    "\n",
    "\n",
    "# Load \"y\" (the neural network's training and testing outputs)\n",
    "\n",
    "def load_y(y_path):\n",
    "    file = open(y_path, 'r')\n",
    "    # Read dataset from disk, dealing with text file's syntax\n",
    "    y_ = np.array(\n",
    "        [elem for elem in [\n",
    "            row.replace('  ', ' ').strip().split(' ') for row in file\n",
    "        ]],\n",
    "        dtype=np.int32\n",
    "    )\n",
    "    file.close()\n",
    "\n",
    "    # Substract 1 to each output class for friendly 0-based indexing\n",
    "    return y_ - 1\n",
    "\n",
    "y_train_path = DATASET_PATH + TRAIN + \"y_train.txt\"\n",
    "y_test_path = DATASET_PATH + TEST + \"y_test.txt\"\n",
    "\n",
    "y_train = load_y(y_train_path)\n",
    "y_test = load_y(y_test_path)\n"
   ]
  },
  {
   "cell_type": "code",
   "execution_count": 5,
   "metadata": {},
   "outputs": [
    {
     "name": "stdout",
     "output_type": "stream",
     "text": [
      "Some useful info to get an insight on dataset's shape and normalisation:\n",
      "(X shape, y shape, every X's mean, every X's standard deviation)\n",
      "(2947, 128, 9) (2947, 1) 0.09913992 0.39567086\n",
      "The dataset is therefore properly normalised, as expected, but not yet one-hot encoded.\n"
     ]
    }
   ],
   "source": [
    "# Input Data\n",
    "\n",
    "training_data_count = len(X_train)  # 7352 training series (with 50% overlap between each serie)\n",
    "test_data_count = len(X_test)  # 2947 testing series\n",
    "n_steps = len(X_train[0])  # 128 timesteps per series\n",
    "n_input = len(X_train[0][0])  # 9 input parameters per timestep\n",
    "\n",
    "\n",
    "# LSTM Neural Network's internal structure\n",
    "\n",
    "n_hidden = 32 # Hidden layer num of features\n",
    "n_classes = 6 # Total classes (should go up, or should go down)\n",
    "\n",
    "\n",
    "# Training\n",
    "\n",
    "learning_rate = 0.0025\n",
    "lambda_loss_amount = 0.0015\n",
    "epochs = 5000\n",
    "#epochs = training_data_count * 300  # Loop 300 times on the dataset\n",
    "batch_size = 1500\n",
    "\n",
    "\n",
    "# Some debugging info\n",
    "\n",
    "print(\"Some useful info to get an insight on dataset's shape and normalisation:\")\n",
    "print(\"(X shape, y shape, every X's mean, every X's standard deviation)\")\n",
    "print(X_test.shape, y_test.shape, np.mean(X_test), np.std(X_test))\n",
    "print(\"The dataset is therefore properly normalised, as expected, but not yet one-hot encoded.\")"
   ]
  },
  {
   "cell_type": "code",
   "execution_count": 6,
   "metadata": {},
   "outputs": [
    {
     "name": "stdout",
     "output_type": "stream",
     "text": [
      "[[4]\n",
      " [4]\n",
      " [4]\n",
      " ...\n",
      " [1]\n",
      " [1]\n",
      " [1]]\n"
     ]
    }
   ],
   "source": [
    "print(y_train)"
   ]
  },
  {
   "cell_type": "markdown",
   "metadata": {},
   "source": [
    "## Define RNN"
   ]
  },
  {
   "cell_type": "code",
   "execution_count": 7,
   "metadata": {},
   "outputs": [
    {
     "name": "stdout",
     "output_type": "stream",
     "text": [
      "Model: \"sequential\"\n",
      "_________________________________________________________________\n",
      "Layer (type)                 Output Shape              Param #   \n",
      "=================================================================\n",
      "lstm (LSTM)                  (None, 128, 32)           5376      \n",
      "_________________________________________________________________\n",
      "lstm_1 (LSTM)                (None, 32)                8320      \n",
      "_________________________________________________________________\n",
      "dense (Dense)                (None, 6)                 198       \n",
      "=================================================================\n",
      "Total params: 13,894\n",
      "Trainable params: 13,894\n",
      "Non-trainable params: 0\n",
      "_________________________________________________________________\n"
     ]
    }
   ],
   "source": [
    "model = keras.Sequential()\n",
    "# 128 timesteps with 9 features each \n",
    "model.add(keras.Input(shape=(128,9)))\n",
    "model.add(layers.LSTM(n_hidden, activation='relu', return_sequences=True))\n",
    "model.add(layers.LSTM(n_hidden, activation='relu', return_sequences=False))\n",
    "# model.add(layers.SimpleRNN(n_hidden, activation='relu', return_sequences=True))\n",
    "# model.add(layers.SimpleRNN(n_hidden, activation='relu',))\n",
    "# model.add(layers.SimpleRNN(n_hidden, activation='relu'))\n",
    "model.add(layers.Dense(n_classes))\n",
    "model.summary()\n",
    "\n",
    "loss = keras.losses.SparseCategoricalCrossentropy(from_logits=True)\n",
    "optim = keras.optimizers.Adam(learning_rate=learning_rate)\n",
    "metrics = [\"accuracy\", \"categorical_accuracy\"]\n",
    "model.compile(loss=loss, optimizer=optim, metrics=metrics)"
   ]
  },
  {
   "cell_type": "markdown",
   "metadata": {},
   "source": [
    "## Train the net"
   ]
  },
  {
   "cell_type": "code",
   "execution_count": 8,
   "metadata": {},
   "outputs": [
    {
     "name": "stdout",
     "output_type": "stream",
     "text": [
      "Epoch 1/5000\n",
      "5/5 - 9s - loss: 1.7617 - accuracy: 0.2748 - categorical_accuracy: 1.3602e-04\n",
      "Epoch 2/5000\n",
      "5/5 - 5s - loss: 5.6332 - accuracy: 0.3483 - categorical_accuracy: 0.0023\n",
      "Epoch 3/5000\n",
      "5/5 - 6s - loss: 64638024.0000 - accuracy: 0.2383 - categorical_accuracy: 0.0556\n",
      "Epoch 4/5000\n",
      "5/5 - 7s - loss: 849540808704.0000 - accuracy: 0.2266 - categorical_accuracy: 0.2667\n",
      "Epoch 5/5000\n",
      "5/5 - 6s - loss: 436890959872.0000 - accuracy: 0.1595 - categorical_accuracy: 0.5529\n",
      "Epoch 6/5000\n",
      "5/5 - 7s - loss: 13163252736.0000 - accuracy: 0.1688 - categorical_accuracy: 4.0805e-04\n",
      "Epoch 7/5000\n",
      "5/5 - 6s - loss: 905137280.0000 - accuracy: 0.1676 - categorical_accuracy: 2.7203e-04\n",
      "Epoch 8/5000\n",
      "5/5 - 6s - loss: 160446496.0000 - accuracy: 0.1589 - categorical_accuracy: 2.7203e-04\n",
      "Epoch 9/5000\n",
      "5/5 - 5s - loss: 44117904.0000 - accuracy: 0.1595 - categorical_accuracy: 0.0000e+00\n",
      "Epoch 10/5000\n",
      "5/5 - 5s - loss: 10951359.0000 - accuracy: 0.1631 - categorical_accuracy: 0.0322\n",
      "Epoch 11/5000\n",
      "5/5 - 5s - loss: 8246360.5000 - accuracy: 0.1617 - categorical_accuracy: 0.1302\n",
      "Epoch 12/5000\n",
      "5/5 - 6s - loss: 7708247.5000 - accuracy: 0.1576 - categorical_accuracy: 0.0083\n",
      "Epoch 13/5000\n",
      "5/5 - 6s - loss: 7321465.0000 - accuracy: 0.1571 - categorical_accuracy: 0.0033\n",
      "Epoch 14/5000\n",
      "5/5 - 6s - loss: 7093780.5000 - accuracy: 0.1574 - categorical_accuracy: 5.4407e-04\n",
      "Epoch 15/5000\n",
      "5/5 - 6s - loss: 6953446.0000 - accuracy: 0.1578 - categorical_accuracy: 2.7203e-04\n",
      "Epoch 16/5000\n",
      "5/5 - 6s - loss: 6863368.5000 - accuracy: 0.1581 - categorical_accuracy: 1.3602e-04\n",
      "Epoch 17/5000\n",
      "5/5 - 6s - loss: 6803115.5000 - accuracy: 0.1581 - categorical_accuracy: 1.3602e-04\n",
      "Epoch 18/5000\n",
      "5/5 - 6s - loss: 6763040.0000 - accuracy: 0.1582 - categorical_accuracy: 1.3602e-04\n",
      "Epoch 19/5000\n",
      "5/5 - 6s - loss: 6736402.0000 - accuracy: 0.1583 - categorical_accuracy: 2.7203e-04\n",
      "Epoch 20/5000\n",
      "5/5 - 6s - loss: 6715975.5000 - accuracy: 0.1583 - categorical_accuracy: 1.3602e-04\n",
      "Epoch 21/5000\n",
      "5/5 - 6s - loss: 6700997.5000 - accuracy: 0.1582 - categorical_accuracy: 1.3602e-04\n",
      "Epoch 22/5000\n",
      "5/5 - 5s - loss: 6686827.0000 - accuracy: 0.1581 - categorical_accuracy: 1.3602e-04\n",
      "Epoch 23/5000\n",
      "5/5 - 6s - loss: 6672545.5000 - accuracy: 0.1581 - categorical_accuracy: 1.3602e-04\n",
      "Epoch 24/5000\n",
      "5/5 - 6s - loss: 6657979.5000 - accuracy: 0.1582 - categorical_accuracy: 1.3602e-04\n",
      "Epoch 25/5000\n",
      "5/5 - 6s - loss: 6643439.0000 - accuracy: 0.1582 - categorical_accuracy: 1.3602e-04\n",
      "Epoch 26/5000\n",
      "5/5 - 6s - loss: 6628701.0000 - accuracy: 0.1585 - categorical_accuracy: 1.3602e-04\n",
      "Epoch 27/5000\n",
      "5/5 - 6s - loss: 6613508.0000 - accuracy: 0.1585 - categorical_accuracy: 1.3602e-04\n",
      "Epoch 28/5000\n",
      "5/5 - 6s - loss: 6598105.0000 - accuracy: 0.1585 - categorical_accuracy: 1.3602e-04\n",
      "Epoch 29/5000\n",
      "5/5 - 6s - loss: 6582007.0000 - accuracy: 0.1586 - categorical_accuracy: 1.3602e-04\n",
      "Epoch 30/5000\n",
      "5/5 - 6s - loss: 6565853.5000 - accuracy: 0.1585 - categorical_accuracy: 2.7203e-04\n",
      "Epoch 31/5000\n",
      "5/5 - 6s - loss: 6549420.5000 - accuracy: 0.1585 - categorical_accuracy: 1.3602e-04\n",
      "Epoch 32/5000\n",
      "5/5 - 6s - loss: 6532524.5000 - accuracy: 0.1585 - categorical_accuracy: 1.3602e-04\n",
      "Epoch 33/5000\n",
      "5/5 - 6s - loss: 6515465.5000 - accuracy: 0.1586 - categorical_accuracy: 1.3602e-04\n",
      "Epoch 34/5000\n",
      "5/5 - 6s - loss: 6497747.0000 - accuracy: 0.1586 - categorical_accuracy: 1.3602e-04\n",
      "Epoch 35/5000\n",
      "5/5 - 6s - loss: 6480268.0000 - accuracy: 0.1586 - categorical_accuracy: 1.3602e-04\n",
      "Epoch 36/5000\n",
      "5/5 - 6s - loss: 6464969.5000 - accuracy: 0.1586 - categorical_accuracy: 1.3602e-04\n",
      "Epoch 37/5000\n",
      "5/5 - 6s - loss: 6448940.5000 - accuracy: 0.1586 - categorical_accuracy: 1.3602e-04\n",
      "Epoch 38/5000\n",
      "5/5 - 6s - loss: 6431594.5000 - accuracy: 0.1585 - categorical_accuracy: 1.3602e-04\n",
      "Epoch 39/5000\n",
      "5/5 - 7s - loss: 6411444.5000 - accuracy: 0.1585 - categorical_accuracy: 2.7203e-04\n",
      "Epoch 40/5000\n",
      "5/5 - 6s - loss: 6391402.5000 - accuracy: 0.1587 - categorical_accuracy: 1.3602e-04\n",
      "Epoch 41/5000\n",
      "5/5 - 6s - loss: 6370493.5000 - accuracy: 0.1587 - categorical_accuracy: 1.3602e-04\n",
      "Epoch 42/5000\n",
      "5/5 - 6s - loss: 6350630.5000 - accuracy: 0.1590 - categorical_accuracy: 1.3602e-04\n",
      "Epoch 43/5000\n",
      "5/5 - 6s - loss: 6331468.5000 - accuracy: 0.1589 - categorical_accuracy: 2.7203e-04\n",
      "Epoch 44/5000\n",
      "5/5 - 6s - loss: 6311895.5000 - accuracy: 0.1589 - categorical_accuracy: 1.3602e-04\n",
      "Epoch 45/5000\n",
      "5/5 - 6s - loss: 6291984.0000 - accuracy: 0.1589 - categorical_accuracy: 1.3602e-04\n",
      "Epoch 46/5000\n",
      "5/5 - 6s - loss: 6271989.0000 - accuracy: 0.1589 - categorical_accuracy: 1.3602e-04\n",
      "Epoch 47/5000\n",
      "5/5 - 6s - loss: 6252371.5000 - accuracy: 0.1590 - categorical_accuracy: 1.3602e-04\n",
      "Epoch 48/5000\n",
      "5/5 - 6s - loss: 6232663.0000 - accuracy: 0.1591 - categorical_accuracy: 1.3602e-04\n",
      "Epoch 49/5000\n",
      "5/5 - 7s - loss: 6212071.0000 - accuracy: 0.1591 - categorical_accuracy: 1.3602e-04\n",
      "Epoch 50/5000\n",
      "5/5 - 6s - loss: 6187055.5000 - accuracy: 0.1591 - categorical_accuracy: 1.3602e-04\n",
      "Epoch 51/5000\n",
      "5/5 - 6s - loss: 6162911.0000 - accuracy: 0.1593 - categorical_accuracy: 2.7203e-04\n",
      "Epoch 52/5000\n",
      "5/5 - 6s - loss: 6140488.0000 - accuracy: 0.1593 - categorical_accuracy: 1.3602e-04\n",
      "Epoch 53/5000\n",
      "5/5 - 6s - loss: 6114914.0000 - accuracy: 0.1594 - categorical_accuracy: 1.3602e-04\n",
      "Epoch 54/5000\n",
      "5/5 - 7s - loss: 6082707.5000 - accuracy: 0.1593 - categorical_accuracy: 2.7203e-04\n",
      "Epoch 55/5000\n",
      "5/5 - 7s - loss: 6054309.0000 - accuracy: 0.1595 - categorical_accuracy: 2.7203e-04\n",
      "Epoch 56/5000\n",
      "5/5 - 6s - loss: 6028518.5000 - accuracy: 0.1594 - categorical_accuracy: 2.7203e-04\n",
      "Epoch 57/5000\n",
      "5/5 - 7s - loss: 6005190.0000 - accuracy: 0.1594 - categorical_accuracy: 5.4407e-04\n",
      "Epoch 58/5000\n",
      "5/5 - 6s - loss: 5982889.0000 - accuracy: 0.1594 - categorical_accuracy: 2.7203e-04\n",
      "Epoch 59/5000\n",
      "5/5 - 7s - loss: 5961402.0000 - accuracy: 0.1594 - categorical_accuracy: 2.7203e-04\n",
      "Epoch 60/5000\n",
      "5/5 - 7s - loss: 5940339.0000 - accuracy: 0.1594 - categorical_accuracy: 4.0805e-04\n",
      "Epoch 61/5000\n",
      "5/5 - 6s - loss: 5919479.5000 - accuracy: 0.1594 - categorical_accuracy: 2.7203e-04\n",
      "Epoch 62/5000\n",
      "5/5 - 8s - loss: 5898724.5000 - accuracy: 0.1594 - categorical_accuracy: 4.0805e-04\n",
      "Epoch 63/5000\n",
      "5/5 - 6s - loss: 5877796.0000 - accuracy: 0.1594 - categorical_accuracy: 4.0805e-04\n",
      "Epoch 64/5000\n",
      "5/5 - 8s - loss: 5856628.0000 - accuracy: 0.1594 - categorical_accuracy: 2.7203e-04\n",
      "Epoch 65/5000\n",
      "5/5 - 6s - loss: 5835316.0000 - accuracy: 0.1595 - categorical_accuracy: 2.7203e-04\n",
      "Epoch 66/5000\n",
      "5/5 - 7s - loss: 5814033.5000 - accuracy: 0.1595 - categorical_accuracy: 2.7203e-04\n",
      "Epoch 67/5000\n",
      "5/5 - 8s - loss: 5789873.0000 - accuracy: 0.1595 - categorical_accuracy: 2.7203e-04\n",
      "Epoch 68/5000\n",
      "5/5 - 7s - loss: 5765922.5000 - accuracy: 0.1595 - categorical_accuracy: 2.7203e-04\n",
      "Epoch 69/5000\n",
      "5/5 - 7s - loss: 5743003.0000 - accuracy: 0.1597 - categorical_accuracy: 2.7203e-04\n",
      "Epoch 70/5000\n",
      "5/5 - 6s - loss: 5720281.5000 - accuracy: 0.1597 - categorical_accuracy: 2.7203e-04\n",
      "Epoch 71/5000\n",
      "5/5 - 7s - loss: 5698199.0000 - accuracy: 0.1597 - categorical_accuracy: 4.0805e-04\n",
      "Epoch 72/5000\n",
      "5/5 - 7s - loss: 5676772.5000 - accuracy: 0.1597 - categorical_accuracy: 4.0805e-04\n",
      "Epoch 73/5000\n",
      "5/5 - 7s - loss: 5655495.5000 - accuracy: 0.1598 - categorical_accuracy: 6.8009e-04\n",
      "Epoch 74/5000\n",
      "5/5 - 7s - loss: 5632495.5000 - accuracy: 0.1598 - categorical_accuracy: 6.8009e-04\n",
      "Epoch 75/5000\n",
      "5/5 - 7s - loss: 5608510.5000 - accuracy: 0.1598 - categorical_accuracy: 6.8009e-04\n",
      "Epoch 76/5000\n",
      "5/5 - 8s - loss: 5585257.0000 - accuracy: 0.1598 - categorical_accuracy: 6.8009e-04\n",
      "Epoch 77/5000\n",
      "5/5 - 7s - loss: 5562281.0000 - accuracy: 0.1598 - categorical_accuracy: 8.1610e-04\n",
      "Epoch 78/5000\n",
      "5/5 - 8s - loss: 5540361.5000 - accuracy: 0.1597 - categorical_accuracy: 8.1610e-04\n",
      "Epoch 79/5000\n",
      "5/5 - 7s - loss: 5518277.0000 - accuracy: 0.1597 - categorical_accuracy: 8.1610e-04\n",
      "Epoch 80/5000\n",
      "5/5 - 8s - loss: 5496272.5000 - accuracy: 0.1598 - categorical_accuracy: 8.1610e-04\n",
      "Epoch 81/5000\n",
      "5/5 - 7s - loss: 5474533.5000 - accuracy: 0.1598 - categorical_accuracy: 8.1610e-04\n",
      "Epoch 82/5000\n",
      "5/5 - 8s - loss: 5452793.0000 - accuracy: 0.1598 - categorical_accuracy: 9.5212e-04\n",
      "Epoch 83/5000\n",
      "5/5 - 7s - loss: 5430809.5000 - accuracy: 0.1598 - categorical_accuracy: 9.5212e-04\n",
      "Epoch 84/5000\n",
      "5/5 - 8s - loss: 5409364.0000 - accuracy: 0.1598 - categorical_accuracy: 9.5212e-04\n"
     ]
    },
    {
     "name": "stdout",
     "output_type": "stream",
     "text": [
      "Epoch 85/5000\n",
      "5/5 - 9s - loss: 5387806.5000 - accuracy: 0.1598 - categorical_accuracy: 9.5212e-04\n",
      "Epoch 86/5000\n",
      "5/5 - 9s - loss: 5365216.0000 - accuracy: 0.1598 - categorical_accuracy: 9.5212e-04\n",
      "Epoch 87/5000\n",
      "5/5 - 9s - loss: 5342192.0000 - accuracy: 0.1600 - categorical_accuracy: 0.0011\n",
      "Epoch 88/5000\n",
      "5/5 - 9s - loss: 5318547.0000 - accuracy: 0.1598 - categorical_accuracy: 0.0012\n",
      "Epoch 89/5000\n",
      "5/5 - 9s - loss: 5295119.0000 - accuracy: 0.1598 - categorical_accuracy: 0.0011\n",
      "Epoch 90/5000\n",
      "5/5 - 9s - loss: 5272193.5000 - accuracy: 0.1598 - categorical_accuracy: 0.0012\n",
      "Epoch 91/5000\n",
      "5/5 - 8s - loss: 5248891.5000 - accuracy: 0.1598 - categorical_accuracy: 0.0011\n",
      "Epoch 92/5000\n",
      "5/5 - 8s - loss: 5225631.0000 - accuracy: 0.1600 - categorical_accuracy: 0.0011\n",
      "Epoch 93/5000\n",
      "5/5 - 8s - loss: 5202977.5000 - accuracy: 0.1598 - categorical_accuracy: 0.0011\n",
      "Epoch 94/5000\n",
      "5/5 - 7s - loss: 5180508.0000 - accuracy: 0.1598 - categorical_accuracy: 0.0011\n",
      "Epoch 95/5000\n",
      "5/5 - 7s - loss: 5158601.5000 - accuracy: 0.1597 - categorical_accuracy: 0.0012\n",
      "Epoch 96/5000\n",
      "5/5 - 7s - loss: 5136476.5000 - accuracy: 0.1595 - categorical_accuracy: 0.0012\n",
      "Epoch 97/5000\n"
     ]
    },
    {
     "ename": "KeyboardInterrupt",
     "evalue": "",
     "output_type": "error",
     "traceback": [
      "\u001b[1;31m---------------------------------------------------------------------------\u001b[0m",
      "\u001b[1;31mKeyboardInterrupt\u001b[0m                         Traceback (most recent call last)",
      "\u001b[1;32m<ipython-input-8-d1866e81cb48>\u001b[0m in \u001b[0;36m<module>\u001b[1;34m\u001b[0m\n\u001b[0;32m      1\u001b[0m \u001b[1;31m#print(f\"X_train shape: {X_train.shape}, Y_train shape: {y_train.shape}\")\u001b[0m\u001b[1;33m\u001b[0m\u001b[1;33m\u001b[0m\u001b[1;33m\u001b[0m\u001b[0m\n\u001b[0;32m      2\u001b[0m \u001b[1;31m#print(f\"X_train values: {X_train}\")\u001b[0m\u001b[1;33m\u001b[0m\u001b[1;33m\u001b[0m\u001b[1;33m\u001b[0m\u001b[0m\n\u001b[1;32m----> 3\u001b[1;33m \u001b[0mhistory\u001b[0m \u001b[1;33m=\u001b[0m \u001b[0mmodel\u001b[0m\u001b[1;33m.\u001b[0m\u001b[0mfit\u001b[0m\u001b[1;33m(\u001b[0m\u001b[0mX_train\u001b[0m\u001b[1;33m,\u001b[0m \u001b[0my_train\u001b[0m\u001b[1;33m,\u001b[0m \u001b[0mbatch_size\u001b[0m\u001b[1;33m=\u001b[0m\u001b[0mbatch_size\u001b[0m\u001b[1;33m,\u001b[0m \u001b[0mepochs\u001b[0m\u001b[1;33m=\u001b[0m\u001b[0mepochs\u001b[0m\u001b[1;33m,\u001b[0m \u001b[0mverbose\u001b[0m\u001b[1;33m=\u001b[0m\u001b[1;36m2\u001b[0m\u001b[1;33m)\u001b[0m\u001b[1;33m\u001b[0m\u001b[1;33m\u001b[0m\u001b[0m\n\u001b[0m",
      "\u001b[1;32m~\\AppData\\Local\\Programs\\Python\\Python38\\lib\\site-packages\\tensorflow\\python\\keras\\engine\\training.py\u001b[0m in \u001b[0;36mfit\u001b[1;34m(self, x, y, batch_size, epochs, verbose, callbacks, validation_split, validation_data, shuffle, class_weight, sample_weight, initial_epoch, steps_per_epoch, validation_steps, validation_batch_size, validation_freq, max_queue_size, workers, use_multiprocessing)\u001b[0m\n\u001b[0;32m   1098\u001b[0m                 _r=1):\n\u001b[0;32m   1099\u001b[0m               \u001b[0mcallbacks\u001b[0m\u001b[1;33m.\u001b[0m\u001b[0mon_train_batch_begin\u001b[0m\u001b[1;33m(\u001b[0m\u001b[0mstep\u001b[0m\u001b[1;33m)\u001b[0m\u001b[1;33m\u001b[0m\u001b[1;33m\u001b[0m\u001b[0m\n\u001b[1;32m-> 1100\u001b[1;33m               \u001b[0mtmp_logs\u001b[0m \u001b[1;33m=\u001b[0m \u001b[0mself\u001b[0m\u001b[1;33m.\u001b[0m\u001b[0mtrain_function\u001b[0m\u001b[1;33m(\u001b[0m\u001b[0miterator\u001b[0m\u001b[1;33m)\u001b[0m\u001b[1;33m\u001b[0m\u001b[1;33m\u001b[0m\u001b[0m\n\u001b[0m\u001b[0;32m   1101\u001b[0m               \u001b[1;32mif\u001b[0m \u001b[0mdata_handler\u001b[0m\u001b[1;33m.\u001b[0m\u001b[0mshould_sync\u001b[0m\u001b[1;33m:\u001b[0m\u001b[1;33m\u001b[0m\u001b[1;33m\u001b[0m\u001b[0m\n\u001b[0;32m   1102\u001b[0m                 \u001b[0mcontext\u001b[0m\u001b[1;33m.\u001b[0m\u001b[0masync_wait\u001b[0m\u001b[1;33m(\u001b[0m\u001b[1;33m)\u001b[0m\u001b[1;33m\u001b[0m\u001b[1;33m\u001b[0m\u001b[0m\n",
      "\u001b[1;32m~\\AppData\\Local\\Programs\\Python\\Python38\\lib\\site-packages\\tensorflow\\python\\eager\\def_function.py\u001b[0m in \u001b[0;36m__call__\u001b[1;34m(self, *args, **kwds)\u001b[0m\n\u001b[0;32m    826\u001b[0m     \u001b[0mtracing_count\u001b[0m \u001b[1;33m=\u001b[0m \u001b[0mself\u001b[0m\u001b[1;33m.\u001b[0m\u001b[0mexperimental_get_tracing_count\u001b[0m\u001b[1;33m(\u001b[0m\u001b[1;33m)\u001b[0m\u001b[1;33m\u001b[0m\u001b[1;33m\u001b[0m\u001b[0m\n\u001b[0;32m    827\u001b[0m     \u001b[1;32mwith\u001b[0m \u001b[0mtrace\u001b[0m\u001b[1;33m.\u001b[0m\u001b[0mTrace\u001b[0m\u001b[1;33m(\u001b[0m\u001b[0mself\u001b[0m\u001b[1;33m.\u001b[0m\u001b[0m_name\u001b[0m\u001b[1;33m)\u001b[0m \u001b[1;32mas\u001b[0m \u001b[0mtm\u001b[0m\u001b[1;33m:\u001b[0m\u001b[1;33m\u001b[0m\u001b[1;33m\u001b[0m\u001b[0m\n\u001b[1;32m--> 828\u001b[1;33m       \u001b[0mresult\u001b[0m \u001b[1;33m=\u001b[0m \u001b[0mself\u001b[0m\u001b[1;33m.\u001b[0m\u001b[0m_call\u001b[0m\u001b[1;33m(\u001b[0m\u001b[1;33m*\u001b[0m\u001b[0margs\u001b[0m\u001b[1;33m,\u001b[0m \u001b[1;33m**\u001b[0m\u001b[0mkwds\u001b[0m\u001b[1;33m)\u001b[0m\u001b[1;33m\u001b[0m\u001b[1;33m\u001b[0m\u001b[0m\n\u001b[0m\u001b[0;32m    829\u001b[0m       \u001b[0mcompiler\u001b[0m \u001b[1;33m=\u001b[0m \u001b[1;34m\"xla\"\u001b[0m \u001b[1;32mif\u001b[0m \u001b[0mself\u001b[0m\u001b[1;33m.\u001b[0m\u001b[0m_experimental_compile\u001b[0m \u001b[1;32melse\u001b[0m \u001b[1;34m\"nonXla\"\u001b[0m\u001b[1;33m\u001b[0m\u001b[1;33m\u001b[0m\u001b[0m\n\u001b[0;32m    830\u001b[0m       \u001b[0mnew_tracing_count\u001b[0m \u001b[1;33m=\u001b[0m \u001b[0mself\u001b[0m\u001b[1;33m.\u001b[0m\u001b[0mexperimental_get_tracing_count\u001b[0m\u001b[1;33m(\u001b[0m\u001b[1;33m)\u001b[0m\u001b[1;33m\u001b[0m\u001b[1;33m\u001b[0m\u001b[0m\n",
      "\u001b[1;32m~\\AppData\\Local\\Programs\\Python\\Python38\\lib\\site-packages\\tensorflow\\python\\eager\\def_function.py\u001b[0m in \u001b[0;36m_call\u001b[1;34m(self, *args, **kwds)\u001b[0m\n\u001b[0;32m    853\u001b[0m       \u001b[1;31m# In this case we have created variables on the first call, so we run the\u001b[0m\u001b[1;33m\u001b[0m\u001b[1;33m\u001b[0m\u001b[1;33m\u001b[0m\u001b[0m\n\u001b[0;32m    854\u001b[0m       \u001b[1;31m# defunned version which is guaranteed to never create variables.\u001b[0m\u001b[1;33m\u001b[0m\u001b[1;33m\u001b[0m\u001b[1;33m\u001b[0m\u001b[0m\n\u001b[1;32m--> 855\u001b[1;33m       \u001b[1;32mreturn\u001b[0m \u001b[0mself\u001b[0m\u001b[1;33m.\u001b[0m\u001b[0m_stateless_fn\u001b[0m\u001b[1;33m(\u001b[0m\u001b[1;33m*\u001b[0m\u001b[0margs\u001b[0m\u001b[1;33m,\u001b[0m \u001b[1;33m**\u001b[0m\u001b[0mkwds\u001b[0m\u001b[1;33m)\u001b[0m  \u001b[1;31m# pylint: disable=not-callable\u001b[0m\u001b[1;33m\u001b[0m\u001b[1;33m\u001b[0m\u001b[0m\n\u001b[0m\u001b[0;32m    856\u001b[0m     \u001b[1;32melif\u001b[0m \u001b[0mself\u001b[0m\u001b[1;33m.\u001b[0m\u001b[0m_stateful_fn\u001b[0m \u001b[1;32mis\u001b[0m \u001b[1;32mnot\u001b[0m \u001b[1;32mNone\u001b[0m\u001b[1;33m:\u001b[0m\u001b[1;33m\u001b[0m\u001b[1;33m\u001b[0m\u001b[0m\n\u001b[0;32m    857\u001b[0m       \u001b[1;31m# Release the lock early so that multiple threads can perform the call\u001b[0m\u001b[1;33m\u001b[0m\u001b[1;33m\u001b[0m\u001b[1;33m\u001b[0m\u001b[0m\n",
      "\u001b[1;32m~\\AppData\\Local\\Programs\\Python\\Python38\\lib\\site-packages\\tensorflow\\python\\eager\\function.py\u001b[0m in \u001b[0;36m__call__\u001b[1;34m(self, *args, **kwargs)\u001b[0m\n\u001b[0;32m   2940\u001b[0m       (graph_function,\n\u001b[0;32m   2941\u001b[0m        filtered_flat_args) = self._maybe_define_function(args, kwargs)\n\u001b[1;32m-> 2942\u001b[1;33m     return graph_function._call_flat(\n\u001b[0m\u001b[0;32m   2943\u001b[0m         filtered_flat_args, captured_inputs=graph_function.captured_inputs)  # pylint: disable=protected-access\n\u001b[0;32m   2944\u001b[0m \u001b[1;33m\u001b[0m\u001b[0m\n",
      "\u001b[1;32m~\\AppData\\Local\\Programs\\Python\\Python38\\lib\\site-packages\\tensorflow\\python\\eager\\function.py\u001b[0m in \u001b[0;36m_call_flat\u001b[1;34m(self, args, captured_inputs, cancellation_manager)\u001b[0m\n\u001b[0;32m   1916\u001b[0m         and executing_eagerly):\n\u001b[0;32m   1917\u001b[0m       \u001b[1;31m# No tape is watching; skip to running the function.\u001b[0m\u001b[1;33m\u001b[0m\u001b[1;33m\u001b[0m\u001b[1;33m\u001b[0m\u001b[0m\n\u001b[1;32m-> 1918\u001b[1;33m       return self._build_call_outputs(self._inference_function.call(\n\u001b[0m\u001b[0;32m   1919\u001b[0m           ctx, args, cancellation_manager=cancellation_manager))\n\u001b[0;32m   1920\u001b[0m     forward_backward = self._select_forward_and_backward_functions(\n",
      "\u001b[1;32m~\\AppData\\Local\\Programs\\Python\\Python38\\lib\\site-packages\\tensorflow\\python\\eager\\function.py\u001b[0m in \u001b[0;36mcall\u001b[1;34m(self, ctx, args, cancellation_manager)\u001b[0m\n\u001b[0;32m    553\u001b[0m       \u001b[1;32mwith\u001b[0m \u001b[0m_InterpolateFunctionError\u001b[0m\u001b[1;33m(\u001b[0m\u001b[0mself\u001b[0m\u001b[1;33m)\u001b[0m\u001b[1;33m:\u001b[0m\u001b[1;33m\u001b[0m\u001b[1;33m\u001b[0m\u001b[0m\n\u001b[0;32m    554\u001b[0m         \u001b[1;32mif\u001b[0m \u001b[0mcancellation_manager\u001b[0m \u001b[1;32mis\u001b[0m \u001b[1;32mNone\u001b[0m\u001b[1;33m:\u001b[0m\u001b[1;33m\u001b[0m\u001b[1;33m\u001b[0m\u001b[0m\n\u001b[1;32m--> 555\u001b[1;33m           outputs = execute.execute(\n\u001b[0m\u001b[0;32m    556\u001b[0m               \u001b[0mstr\u001b[0m\u001b[1;33m(\u001b[0m\u001b[0mself\u001b[0m\u001b[1;33m.\u001b[0m\u001b[0msignature\u001b[0m\u001b[1;33m.\u001b[0m\u001b[0mname\u001b[0m\u001b[1;33m)\u001b[0m\u001b[1;33m,\u001b[0m\u001b[1;33m\u001b[0m\u001b[1;33m\u001b[0m\u001b[0m\n\u001b[0;32m    557\u001b[0m               \u001b[0mnum_outputs\u001b[0m\u001b[1;33m=\u001b[0m\u001b[0mself\u001b[0m\u001b[1;33m.\u001b[0m\u001b[0m_num_outputs\u001b[0m\u001b[1;33m,\u001b[0m\u001b[1;33m\u001b[0m\u001b[1;33m\u001b[0m\u001b[0m\n",
      "\u001b[1;32m~\\AppData\\Local\\Programs\\Python\\Python38\\lib\\site-packages\\tensorflow\\python\\eager\\execute.py\u001b[0m in \u001b[0;36mquick_execute\u001b[1;34m(op_name, num_outputs, inputs, attrs, ctx, name)\u001b[0m\n\u001b[0;32m     57\u001b[0m   \u001b[1;32mtry\u001b[0m\u001b[1;33m:\u001b[0m\u001b[1;33m\u001b[0m\u001b[1;33m\u001b[0m\u001b[0m\n\u001b[0;32m     58\u001b[0m     \u001b[0mctx\u001b[0m\u001b[1;33m.\u001b[0m\u001b[0mensure_initialized\u001b[0m\u001b[1;33m(\u001b[0m\u001b[1;33m)\u001b[0m\u001b[1;33m\u001b[0m\u001b[1;33m\u001b[0m\u001b[0m\n\u001b[1;32m---> 59\u001b[1;33m     tensors = pywrap_tfe.TFE_Py_Execute(ctx._handle, device_name, op_name,\n\u001b[0m\u001b[0;32m     60\u001b[0m                                         inputs, attrs, num_outputs)\n\u001b[0;32m     61\u001b[0m   \u001b[1;32mexcept\u001b[0m \u001b[0mcore\u001b[0m\u001b[1;33m.\u001b[0m\u001b[0m_NotOkStatusException\u001b[0m \u001b[1;32mas\u001b[0m \u001b[0me\u001b[0m\u001b[1;33m:\u001b[0m\u001b[1;33m\u001b[0m\u001b[1;33m\u001b[0m\u001b[0m\n",
      "\u001b[1;31mKeyboardInterrupt\u001b[0m: "
     ]
    }
   ],
   "source": [
    "#print(f\"X_train shape: {X_train.shape}, Y_train shape: {y_train.shape}\")\n",
    "#print(f\"X_train values: {X_train}\")\n",
    "history = model.fit(X_train, y_train, batch_size=batch_size, epochs=epochs, verbose=2)"
   ]
  },
  {
   "cell_type": "code",
   "execution_count": null,
   "metadata": {},
   "outputs": [],
   "source": [
    "model.evaluate(X_test, y_test, batch_size=batch_size, verbose=2)"
   ]
  },
  {
   "cell_type": "code",
   "execution_count": null,
   "metadata": {},
   "outputs": [],
   "source": [
    "model.save(\"HAR-RNN-Classifier\")"
   ]
  },
  {
   "cell_type": "code",
   "execution_count": null,
   "metadata": {},
   "outputs": [],
   "source": []
  }
 ],
 "metadata": {
  "kernelspec": {
   "display_name": "Python 3.8.5 64-bit",
   "language": "python",
   "name": "python38564bite2072d802207495b8582b814d3193f5c"
  },
  "language_info": {
   "codemirror_mode": {
    "name": "ipython",
    "version": 3
   },
   "file_extension": ".py",
   "mimetype": "text/x-python",
   "name": "python",
   "nbconvert_exporter": "python",
   "pygments_lexer": "ipython3",
   "version": "3.8.5"
  }
 },
 "nbformat": 4,
 "nbformat_minor": 4
}
